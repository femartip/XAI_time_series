{
 "cells": [
  {
   "metadata": {
    "ExecuteTime": {
     "end_time": "2025-06-25T09:10:45.356223Z",
     "start_time": "2025-06-25T09:10:45.311531Z"
    }
   },
   "cell_type": "code",
   "source": [
    "import os\n",
    "os.environ['TF_CPP_MIN_LOG_LEVEL'] = '3'\n",
    "from tslearn.datasets import UCR_UEA_datasets\n",
    "import sklearn\n",
    "import pickle\n",
    "import numpy as np\n",
    "import torch\n",
    "from ClassificationModels.CNN_T import ResNetBaseline, UCRDataset\n",
    "import warnings\n",
    "warnings.filterwarnings(\"ignore\")"
   ],
   "id": "443a48070cd336bd",
   "outputs": [],
   "execution_count": 35
  },
  {
   "metadata": {
    "ExecuteTime": {
     "end_time": "2025-06-25T09:10:45.587113Z",
     "start_time": "2025-06-25T09:10:45.576323Z"
    }
   },
   "cell_type": "code",
   "source": "dataset='ElectricDevices'",
   "id": "a6f166fbf3f8215e",
   "outputs": [],
   "execution_count": 36
  },
  {
   "metadata": {
    "ExecuteTime": {
     "end_time": "2025-06-25T09:10:47.090699Z",
     "start_time": "2025-06-25T09:10:45.737353Z"
    }
   },
   "cell_type": "code",
   "source": [
    "train_x,train_y, test_x, test_y=UCR_UEA_datasets().load_dataset(dataset)\n",
    "train_x = train_x.reshape(-1,1,  train_x.shape[-2])\n",
    "test_x = test_x.reshape(-1,1,  test_x.shape[-2])"
   ],
   "id": "7bda93b54481bf60",
   "outputs": [],
   "execution_count": 37
  },
  {
   "metadata": {
    "ExecuteTime": {
     "end_time": "2025-06-25T09:10:47.125635Z",
     "start_time": "2025-06-25T09:10:47.095874Z"
    }
   },
   "cell_type": "code",
   "source": [
    "enc1=sklearn.preprocessing.OneHotEncoder(sparse=False).fit(np.vstack((train_y.reshape(-1,1),test_y.reshape(-1,1))))\n",
    "f= open(f'one_hot/{dataset}_OneHotEncoder.pkl','wb')\n",
    "pickle.dump(enc1,f)\n",
    "\n",
    "train_y=enc1.transform(train_y.reshape(-1,1))\n",
    "test_y=enc1.transform(test_y.reshape(-1,1))\n"
   ],
   "id": "7ef2dca1a4141b2a",
   "outputs": [],
   "execution_count": 38
  },
  {
   "metadata": {
    "ExecuteTime": {
     "end_time": "2025-06-25T09:10:47.196037Z",
     "start_time": "2025-06-25T09:10:47.159103Z"
    }
   },
   "cell_type": "code",
   "source": [
    "n_pred_classes =train_y.shape[1]\n",
    "train_dataset = UCRDataset(train_x.astype(np.float64),train_y.astype(np.int64))\n",
    "test_dataset = UCRDataset(test_x.astype(np.float64),test_y.astype(np.int64))\n",
    "train_loader = torch.utils.data.DataLoader(train_dataset,batch_size=16,shuffle=True)\n",
    "test_loader = torch.utils.data.DataLoader(test_dataset,batch_size=1,shuffle=False)\n",
    "model = ResNetBaseline(in_channels=1, num_pred_classes=n_pred_classes)\n",
    "\n",
    "\n"
   ],
   "id": "631140966058005a",
   "outputs": [],
   "execution_count": 39
  },
  {
   "metadata": {
    "ExecuteTime": {
     "end_time": "2025-06-25T09:12:38.202873Z",
     "start_time": "2025-06-25T09:10:47.228924Z"
    }
   },
   "cell_type": "code",
   "source": [
    "from ClassificationModels.CNN_T import fit\n",
    "fit(model,train_loader,test_loader, num_epochs=1)"
   ],
   "id": "a4c6626581c71a6",
   "outputs": [
    {
     "name": "stdout",
     "output_type": "stream",
     "text": [
      "Epoch: 1, Train loss: 0.856, Val loss: 1.59\n"
     ]
    }
   ],
   "execution_count": 40
  },
  {
   "metadata": {
    "ExecuteTime": {
     "end_time": "2025-06-25T09:12:38.319058Z",
     "start_time": "2025-06-25T09:12:38.299156Z"
    }
   },
   "cell_type": "code",
   "source": "torch.save(model.state_dict(), f'ClassificationModels/{dataset}_ResNet')",
   "id": "4b3e3a316434b656",
   "outputs": [],
   "execution_count": 41
  },
  {
   "metadata": {
    "ExecuteTime": {
     "end_time": "2025-06-25T09:12:38.353586Z",
     "start_time": "2025-06-25T09:12:38.333199Z"
    }
   },
   "cell_type": "code",
   "source": [
    "state_dict= torch.load( f'ClassificationModels/{dataset}_ResNet')\n",
    "model.load_state_dict(state_dict)"
   ],
   "id": "40992e8fdce8493e",
   "outputs": [
    {
     "data": {
      "text/plain": [
       "<All keys matched successfully>"
      ]
     },
     "execution_count": 42,
     "metadata": {},
     "output_type": "execute_result"
    }
   ],
   "execution_count": 42
  },
  {
   "metadata": {
    "ExecuteTime": {
     "end_time": "2025-06-25T09:12:38.398760Z",
     "start_time": "2025-06-25T09:12:38.389398Z"
    }
   },
   "cell_type": "code",
   "source": [
    "model.eval()\n",
    "item=test_x[20].reshape(1,1,-1)\n",
    "shape=item.shape\n",
    "_item=  torch.from_numpy(item).float()\n",
    "model.eval()\n",
    "y_target = torch.nn.functional.softmax(model(_item)).detach().numpy()"
   ],
   "id": "d8c1881ad38a3d04",
   "outputs": [],
   "execution_count": 43
  },
  {
   "metadata": {
    "jupyter": {
     "is_executing": true
    },
    "ExecuteTime": {
     "start_time": "2025-06-25T09:12:38.479164Z"
    }
   },
   "cell_type": "code",
   "source": [
    "from TSInterpret.InterpretabilityModels.counterfactual.NativeGuideCF \\\n",
    "     import NativeGuideCF\n",
    "exp_model=NativeGuideCF(model,(train_x,train_y), \\\n",
    "    backend='PYT', mode='feat',method='NUN_CF')"
   ],
   "id": "2dfa57064d7aa852",
   "outputs": [
    {
     "name": "stdout",
     "output_type": "stream",
     "text": [
      "Lenght: 96\n"
     ]
    },
    {
     "name": "stderr",
     "output_type": "stream",
     "text": [
      "WARNING:root:no value was provided for `target_layer`, thus set to 'layers'.\n",
      "WARNING:root:no value was provided for `fc_layer`, thus set to 'final'.\n"
     ]
    }
   ],
   "execution_count": null
  },
  {
   "metadata": {
    "ExecuteTime": {
     "end_time": "2025-06-23T19:02:59.167432Z",
     "start_time": "2025-06-23T19:02:58.687115Z"
    }
   },
   "cell_type": "code",
   "source": "exp,label=exp_model.explain(item, np.argmax(y_target,axis=1)[0])",
   "id": "19b203926df9fdeb",
   "outputs": [],
   "execution_count": 30
  },
  {
   "metadata": {
    "ExecuteTime": {
     "end_time": "2025-06-23T19:02:59.474397Z",
     "start_time": "2025-06-23T19:02:59.171216Z"
    }
   },
   "cell_type": "code",
   "source": [
    "\n",
    "exp_model.plot(item,np.argmax(y_target,axis=1)[0],exp,label)"
   ],
   "id": "838b336845531c63",
   "outputs": [
    {
     "data": {
      "text/plain": [
       "<Figure size 512x384 with 4 Axes>"
      ],
      "image/png": "[encoded data removed]"
     },
     "metadata": {},
     "output_type": "display_data"
    }
   ],
   "execution_count": 31
  },
  {
   "metadata": {
    "ExecuteTime": {
     "end_time": "2025-06-23T19:02:59.582256Z",
     "start_time": "2025-06-23T19:02:59.509121Z"
    }
   },
   "cell_type": "code",
   "source": "exp_model.plot_in_one(item,np.argmax(y_target,axis=1)[0],exp,label)",
   "id": "694cae0fe84a9cba",
   "outputs": [
    {
     "data": {
      "text/plain": [
       "<Figure size 512x384 with 1 Axes>"
      ],
      "image/png": "[encoded data removed]"
     },
     "metadata": {},
     "output_type": "display_data"
    }
   ],
   "execution_count": 32
  },
  {
   "metadata": {
    "ExecuteTime": {
     "end_time": "2025-06-23T19:02:59.617828Z",
     "start_time": "2025-06-23T19:02:59.612753Z"
    }
   },
   "cell_type": "code",
   "source": "exp",
   "id": "305c2665a4fedb4c",
   "outputs": [
    {
     "data": {
      "text/plain": [
       "array([[-0.18613849, -0.18613849, -0.18613849, -0.18613849, -0.18613849,\n",
       "        -0.18613849, -0.18613849, -0.18613849, -0.18613849, -0.18613849,\n",
       "        -0.18613849, -0.18613849, -0.18613849, -0.18613849, -0.18613849,\n",
       "        -0.18613849, -0.18613849, -0.18613849, -0.18613849, -0.18613849,\n",
       "        -0.18613849, -0.18613849, -0.18613849, -0.18613849, -0.18613849,\n",
       "        -0.18613849, -0.18613849, -0.18613849, -0.18613849, -0.18613849,\n",
       "        -0.18613849, -0.18613849, -0.18613849, -0.18613849, -0.18613849,\n",
       "        -0.18613849, -0.18613849, -0.18613849, -0.18613849, -0.18613849,\n",
       "        -0.18613849, -0.18613849, -0.18613849,  0.00862222,  0.39814363,\n",
       "         0.15469275, -0.18613849, -0.18613849, -0.18613849, -0.18613849,\n",
       "        -0.18613849, -0.18613849,  6.7278666 ,  6.5817961 ,  0.59290434,\n",
       "         1.6640882 ,  0.2520731 , -0.18613849, -0.18613849, -0.12316843,\n",
       "        -0.18613849, -0.18613849, -0.18613849, -0.18613849, -0.18613849,\n",
       "        -0.18613849, -0.18613849, -0.18613849, -0.18613849, -0.18613849,\n",
       "        -0.18613849, -0.18613849, -0.18613849, -0.18613849, -0.18613849,\n",
       "        -0.18613849, -0.18613849, -0.18613849, -0.18613849, -0.18613849,\n",
       "        -0.18613849, -0.18613849, -0.18613849, -0.18613849, -0.18613849,\n",
       "        -0.18613849, -0.18613849, -0.18613849, -0.18613849, -0.18613849,\n",
       "        -0.18613849, -0.18613849, -0.18613849, -0.18613849, -0.18613849,\n",
       "        -0.18613849]])"
      ]
     },
     "execution_count": 33,
     "metadata": {},
     "output_type": "execute_result"
    }
   ],
   "execution_count": 33
  },
  {
   "metadata": {
    "ExecuteTime": {
     "end_time": "2025-06-23T19:02:59.700110Z",
     "start_time": "2025-06-23T19:02:59.696029Z"
    }
   },
   "cell_type": "code",
   "source": "item[0]\n",
   "id": "cf718aedd6b8f888",
   "outputs": [
    {
     "data": {
      "text/plain": [
       "array([[-0.18613849, -0.18613849, -0.18613849, -0.18613849, -0.18613849,\n",
       "        -0.18613849, -0.18613849, -0.18613849, -0.18613849, -0.18613849,\n",
       "        -0.18613849, -0.18613849, -0.18613849, -0.18613849, -0.18613849,\n",
       "        -0.18613849, -0.18613849, -0.18613849, -0.18613849, -0.18613849,\n",
       "        -0.18613849, -0.18613849, -0.18613849, -0.18613849, -0.18613849,\n",
       "        -0.18613849, -0.18613849, -0.18613849, -0.18613849, -0.18613849,\n",
       "        -0.18613849, -0.18613849, -0.18613849, -0.18613849, -0.18613849,\n",
       "        -0.18613849, -0.18613849, -0.18613849, -0.18613849, -0.18613849,\n",
       "        -0.18613849, -0.18613849, -0.18613849,  0.00862222,  0.39814363,\n",
       "         0.15469275, -0.18613849, -0.18613849, -0.18613849, -0.18613849,\n",
       "        -0.18613849, -0.18613849,  6.7278666 ,  6.5817961 ,  0.59290434,\n",
       "         1.6640882 ,  0.2520731 , -0.18613849, -0.18613849, -0.18613849,\n",
       "        -0.18613849, -0.18613849, -0.18613849, -0.18613849, -0.18613849,\n",
       "        -0.18613849, -0.18613849, -0.18613849, -0.18613849, -0.18613849,\n",
       "        -0.18613849, -0.18613849, -0.18613849, -0.18613849, -0.18613849,\n",
       "        -0.18613849, -0.18613849, -0.18613849, -0.18613849, -0.18613849,\n",
       "        -0.18613849, -0.18613849, -0.18613849, -0.18613849, -0.18613849,\n",
       "        -0.18613849, -0.18613849, -0.18613849, -0.18613849, -0.18613849,\n",
       "        -0.18613849, -0.18613849, -0.18613849, -0.18613849, -0.18613849,\n",
       "        -0.18613849]])"
      ]
     },
     "execution_count": 34,
     "metadata": {},
     "output_type": "execute_result"
    }
   ],
   "execution_count": 34
  },
  {
   "metadata": {},
   "cell_type": "code",
   "outputs": [],
   "execution_count": null,
   "source": "",
   "id": "f3457f6eaed69e96"
  },
  {
   "metadata": {},
   "cell_type": "code",
   "outputs": [],
   "execution_count": null,
   "source": "",
   "id": "465dd71cf8d66f13"
  }
 ],
 "metadata": {
  "kernelspec": {
   "display_name": "Python 3",
   "language": "python",
   "name": "python3"
  },
  "language_info": {
   "codemirror_mode": {
    "name": "ipython",
    "version": 2
   },
   "file_extension": ".py",
   "mimetype": "text/x-python",
   "name": "python",
   "nbconvert_exporter": "python",
   "pygments_lexer": "ipython2",
   "version": "2.7.6"
  }
 },
 "nbformat": 4,
 "nbformat_minor": 5
}
